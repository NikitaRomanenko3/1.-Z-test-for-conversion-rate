{
 "cells": [
  {
   "cell_type": "markdown",
   "metadata": {},
   "source": [
    "### 0. Intro"
   ]
  },
  {
   "cell_type": "markdown",
   "metadata": {},
   "source": [
    "#### Dataset was dawnloaded from https://www.kaggle.com/zhangluyuan/ab-testing"
   ]
  },
  {
   "cell_type": "markdown",
   "metadata": {},
   "source": [
    "In this notebook i will test hypothesis of conversion rate between two groups: control, treatment. Groups have already been splitted and presented into initial dataset. \n",
    "\n",
    "There is plan for current task below: \n",
    "* Designing of the test\n",
    "* Data preparation\n",
    "* Testing of hypothesis"
   ]
  },
  {
   "cell_type": "code",
   "execution_count": 1,
   "metadata": {},
   "outputs": [
    {
     "name": "stderr",
     "output_type": "stream",
     "text": [
      "C:\\Users\\Nikita\\Anaconda3\\lib\\site-packages\\statsmodels\\tools\\_testing.py:19: FutureWarning: pandas.util.testing is deprecated. Use the functions in the public API at pandas.testing instead.\n",
      "  import pandas.util.testing as tm\n"
     ]
    },
    {
     "data": {
      "text/html": [
       "<div>\n",
       "<style scoped>\n",
       "    .dataframe tbody tr th:only-of-type {\n",
       "        vertical-align: middle;\n",
       "    }\n",
       "\n",
       "    .dataframe tbody tr th {\n",
       "        vertical-align: top;\n",
       "    }\n",
       "\n",
       "    .dataframe thead th {\n",
       "        text-align: right;\n",
       "    }\n",
       "</style>\n",
       "<table border=\"1\" class=\"dataframe\">\n",
       "  <thead>\n",
       "    <tr style=\"text-align: right;\">\n",
       "      <th></th>\n",
       "      <th>user_id</th>\n",
       "      <th>timestamp</th>\n",
       "      <th>group</th>\n",
       "      <th>landing_page</th>\n",
       "      <th>converted</th>\n",
       "    </tr>\n",
       "  </thead>\n",
       "  <tbody>\n",
       "    <tr>\n",
       "      <th>0</th>\n",
       "      <td>851104</td>\n",
       "      <td>2017-01-21 22:11:48.556739</td>\n",
       "      <td>control</td>\n",
       "      <td>old_page</td>\n",
       "      <td>0</td>\n",
       "    </tr>\n",
       "    <tr>\n",
       "      <th>1</th>\n",
       "      <td>804228</td>\n",
       "      <td>2017-01-12 08:01:45.159739</td>\n",
       "      <td>control</td>\n",
       "      <td>old_page</td>\n",
       "      <td>0</td>\n",
       "    </tr>\n",
       "    <tr>\n",
       "      <th>2</th>\n",
       "      <td>661590</td>\n",
       "      <td>2017-01-11 16:55:06.154213</td>\n",
       "      <td>treatment</td>\n",
       "      <td>new_page</td>\n",
       "      <td>0</td>\n",
       "    </tr>\n",
       "    <tr>\n",
       "      <th>3</th>\n",
       "      <td>853541</td>\n",
       "      <td>2017-01-08 18:28:03.143765</td>\n",
       "      <td>treatment</td>\n",
       "      <td>new_page</td>\n",
       "      <td>0</td>\n",
       "    </tr>\n",
       "    <tr>\n",
       "      <th>4</th>\n",
       "      <td>864975</td>\n",
       "      <td>2017-01-21 01:52:26.210827</td>\n",
       "      <td>control</td>\n",
       "      <td>old_page</td>\n",
       "      <td>1</td>\n",
       "    </tr>\n",
       "  </tbody>\n",
       "</table>\n",
       "</div>"
      ],
      "text/plain": [
       "   user_id                   timestamp      group landing_page  converted\n",
       "0   851104  2017-01-21 22:11:48.556739    control     old_page          0\n",
       "1   804228  2017-01-12 08:01:45.159739    control     old_page          0\n",
       "2   661590  2017-01-11 16:55:06.154213  treatment     new_page          0\n",
       "3   853541  2017-01-08 18:28:03.143765  treatment     new_page          0\n",
       "4   864975  2017-01-21 01:52:26.210827    control     old_page          1"
      ]
     },
     "execution_count": 1,
     "metadata": {},
     "output_type": "execute_result"
    }
   ],
   "source": [
    "import pandas as pd\n",
    "import statsmodels.stats.power as smp\n",
    "from statsmodels.stats.proportion import proportions_ztest, proportion_confint\n",
    "\n",
    "df = pd.read_csv('ab_data.csv')\n",
    "df.head()"
   ]
  },
  {
   "cell_type": "markdown",
   "metadata": {},
   "source": [
    "### 1. Designing of the test"
   ]
  },
  {
   "cell_type": "markdown",
   "metadata": {},
   "source": [
    "I will work with one-tailed z-test, using significance level (alpha) as 0.05:\n",
    "\n",
    "H<sub>0</sub>: p<sub>0</sub> = p<sub>1</sub>  \n",
    "H<sub>1</sub>: p<sub>0</sub> < p<sub>1</sub>  \n",
    "\n",
    "Column **\"converted\"** contains values of target variable, by which we can calculate a required probability of conversion for given groups.  \n",
    "Variable \"converted\", in term of presented users, has the binomial distribution, where each value is result of Bernoulli scheme with required probability of conversion.   \n",
    "On the basis that ***p*** in Bernoulli scheme is expected value, we can compare probability of conversion between two groups using z-test (due to CLT)"
   ]
  },
  {
   "cell_type": "markdown",
   "metadata": {},
   "source": [
    "### 2. Data preparation"
   ]
  },
  {
   "cell_type": "code",
   "execution_count": 2,
   "metadata": {},
   "outputs": [
    {
     "data": {
      "text/html": [
       "<div>\n",
       "<style scoped>\n",
       "    .dataframe tbody tr th:only-of-type {\n",
       "        vertical-align: middle;\n",
       "    }\n",
       "\n",
       "    .dataframe tbody tr th {\n",
       "        vertical-align: top;\n",
       "    }\n",
       "\n",
       "    .dataframe thead th {\n",
       "        text-align: right;\n",
       "    }\n",
       "</style>\n",
       "<table border=\"1\" class=\"dataframe\">\n",
       "  <thead>\n",
       "    <tr style=\"text-align: right;\">\n",
       "      <th>landing_page</th>\n",
       "      <th>new_page</th>\n",
       "      <th>old_page</th>\n",
       "    </tr>\n",
       "    <tr>\n",
       "      <th>group</th>\n",
       "      <th></th>\n",
       "      <th></th>\n",
       "    </tr>\n",
       "  </thead>\n",
       "  <tbody>\n",
       "    <tr>\n",
       "      <th>control</th>\n",
       "      <td>0</td>\n",
       "      <td>143293</td>\n",
       "    </tr>\n",
       "    <tr>\n",
       "      <th>treatment</th>\n",
       "      <td>143397</td>\n",
       "      <td>0</td>\n",
       "    </tr>\n",
       "  </tbody>\n",
       "</table>\n",
       "</div>"
      ],
      "text/plain": [
       "landing_page  new_page  old_page\n",
       "group                           \n",
       "control              0    143293\n",
       "treatment       143397         0"
      ]
     },
     "execution_count": 2,
     "metadata": {},
     "output_type": "execute_result"
    }
   ],
   "source": [
    "# removing users, who occur twice or more in dataset\n",
    "# checking, that user should be only into one single group\n",
    "\n",
    "duplicate_users = list(pd.DataFrame(df['user_id'].value_counts() > 1).query('user_id == True').index)\n",
    "df = df[~df['user_id'].isin(duplicate_users)]\n",
    "pd.crosstab(df['group'], df['landing_page'])"
   ]
  },
  {
   "cell_type": "markdown",
   "metadata": {},
   "source": [
    "#### Calculating MDE and a sample size  \n",
    "\n",
    "This should be presented in the part \"Designing of the test\". But we don't have any priori data about conversion rate and expected effect from current experiment.  \n",
    "For simplicity let's refer, that expected effect is conversion rate of control group + 0.02. "
   ]
  },
  {
   "cell_type": "code",
   "execution_count": 3,
   "metadata": {},
   "outputs": [
    {
     "name": "stdout",
     "output_type": "stream",
     "text": [
      "Sample size is 4709, conversion rate for control group is 0.12\n"
     ]
    }
   ],
   "source": [
    "# Calculating a conversion rate of control group\n",
    "\n",
    "control_conversion_prob = round(df[df['group'] == 'control'].converted.mean(), 3)\n",
    "expected_conversion_prob = control_conversion_prob + 0.02\n",
    "\n",
    "\n",
    "# Calculating MDE, using Cohen's method\n",
    "\n",
    "mde = ((expected_conversion_prob - control_conversion_prob) ** 2 / control_conversion_prob) ** 0.5\n",
    "\n",
    "\n",
    "# Calculating a sample size \n",
    "\n",
    "effect_size = mde\n",
    "power = 0.8\n",
    "alpha = 0.05\n",
    "sample_size = round(smp.NormalIndPower().solve_power(effect_size, nobs1=None, alpha=alpha, power=power))\n",
    "print(f'Sample size is {sample_size}, conversion rate for control group is {control_conversion_prob}')"
   ]
  },
  {
   "cell_type": "markdown",
   "metadata": {},
   "source": [
    "#### Sampling"
   ]
  },
  {
   "cell_type": "code",
   "execution_count": 4,
   "metadata": {},
   "outputs": [
    {
     "name": "stdout",
     "output_type": "stream",
     "text": [
      "Conversion rate for control group after sampling is 0.117, for test group is 0.126\n"
     ]
    }
   ],
   "source": [
    "control_sample = df[df['group'] == 'control'].sample(n=sample_size)\n",
    "test_sample = df[df['group'] == 'treatment'].sample(n=sample_size)\n",
    "\n",
    "control_conv_rate = round(control_sample.converted.mean(), 3)\n",
    "test_conv_rate = round(test_sample.converted.mean(), 3)\n",
    "\n",
    "print(f'Conversion rate for control group after sampling is {control_conv_rate}, for test group is {test_conv_rate}')"
   ]
  },
  {
   "cell_type": "markdown",
   "metadata": {},
   "source": [
    "### 3. Testing of hypothesis"
   ]
  },
  {
   "cell_type": "code",
   "execution_count": 5,
   "metadata": {},
   "outputs": [
    {
     "name": "stdout",
     "output_type": "stream",
     "text": [
      "Z statistics of the current test is -1.262, with p-value equals 0.104\n",
      "Confidence interval of conversion rate for contral group is: from 0.108 to 0.126\n",
      "Confidence interval of conversion rate for test group is: from 0.116 to 0.135\n"
     ]
    }
   ],
   "source": [
    "control_successes = control_sample.converted.sum()\n",
    "test_successes = test_sample.converted.sum()\n",
    "control_count = control_sample.converted.count()\n",
    "test_count = test_sample.converted.count()\n",
    "successes = [control_successes, test_successes]\n",
    "nobs = [control_count, test_count]\n",
    "\n",
    "z_stat, p_value = proportions_ztest(count=successes, nobs=nobs, alternative='smaller')\n",
    "(lower_control, lower_test), (upper_control, upper_test) = proportion_confint(count=successes, nobs=nobs, alpha=0.05, \n",
    "                                                                       method='normal')\n",
    "\n",
    "print(f'Z statistics of the current test is {z_stat:.3f}, with p-value equals {p_value:.3f}')\n",
    "print(f'Confidence interval of conversion rate for contral group is: from {lower_control:.3f} to {upper_control:.3f}')\n",
    "print(f'Confidence interval of conversion rate for test group is: from {lower_test:.3f} to {upper_test:.3f}')"
   ]
  },
  {
   "cell_type": "markdown",
   "metadata": {},
   "source": [
    "### Conclusion"
   ]
  },
  {
   "cell_type": "markdown",
   "metadata": {},
   "source": [
    "Having p-value greater than alpha, we can't accept alternative hypothesis about significant difference between control and test group in period of experiment.  \n",
    "But there are two points:   \n",
    "first - p-value approaches to alpha,   \n",
    "second - right border of confidence interval for test group near to target value (conversion rate for control group + 0.02). \n",
    "It means, that recent improvements, which were shown only for users in test group, made close result to be accepted as significant. Maybe after technical redesign, experiment will show a significant result. "
   ]
  },
  {
   "cell_type": "code",
   "execution_count": null,
   "metadata": {},
   "outputs": [],
   "source": []
  }
 ],
 "metadata": {
  "kernelspec": {
   "display_name": "Python 3",
   "language": "python",
   "name": "python3"
  },
  "language_info": {
   "codemirror_mode": {
    "name": "ipython",
    "version": 3
   },
   "file_extension": ".py",
   "mimetype": "text/x-python",
   "name": "python",
   "nbconvert_exporter": "python",
   "pygments_lexer": "ipython3",
   "version": "3.7.4"
  }
 },
 "nbformat": 4,
 "nbformat_minor": 2
}
